{
 "cells": [
  {
   "cell_type": "code",
   "execution_count": 1,
   "metadata": {},
   "outputs": [],
   "source": [
    "import time\n",
    "\n",
    "from rpapy.core import click_vision, write_text_vision\n",
    "from selenium import webdriver\n",
    "from selenium.webdriver.chrome.options import Options\n",
    "from selenium.webdriver.chrome.service import Service as ChromeService\n",
    "from selenium.webdriver.common.by import By\n",
    "from selenium.webdriver.common.keys import Keys\n",
    "from selenium.webdriver.support import expected_conditions as EC\n",
    "from selenium.webdriver.support.ui import WebDriverWait\n",
    "from webdriver_manager.chrome import ChromeDriverManager"
   ]
  },
  {
   "cell_type": "code",
   "execution_count": 2,
   "metadata": {},
   "outputs": [],
   "source": [
    "options = Options()\n",
    "options.add_argument(\"--start-maximized\")\n",
    "options.add_experimental_option('prefs', {\n",
    "    'download.default_directory': 'C:/Users/codigo100cera/Downloads/divida ativa/parcelamento por data de emissão',\n",
    "    'download.prompt_for_download': True,\n",
    "    'download.directory_upgrade': True,\n",
    "    'safebrowsing.enabled': True\n",
    "})\n",
    "\n",
    "# #provide location where chrome stores profiles\n",
    "# options.add_argument(r\"--user-data-dir=C:/Users/codigo100cera/AppData/Local/Google/Chrome/User Data/Profile 12\")\n",
    "\n",
    "# #provide the profile name with which we want to open browser\n",
    "# options.add_argument(r'--profile-directory=Profile 12')\n",
    "\n",
    "driver = webdriver.Chrome( \n",
    "    service=ChromeService(ChromeDriverManager().install()),\n",
    "    options=options\n",
    ")"
   ]
  },
  {
   "cell_type": "code",
   "execution_count": 3,
   "metadata": {},
   "outputs": [],
   "source": [
    "driver.get('https://online.mogidascruzes.sp.gov.br/intranet/')"
   ]
  },
  {
   "cell_type": "code",
   "execution_count": 4,
   "metadata": {},
   "outputs": [],
   "source": [
    "def get_element_by_xpath(driver, xpath, max_wait=10):\n",
    "    try:\n",
    "        element = WebDriverWait(driver, max_wait).until(\n",
    "            EC.element_to_be_clickable((By.XPATH, xpath))\n",
    "        )\n",
    "        return element\n",
    "    except: \n",
    "        return None"
   ]
  },
  {
   "cell_type": "code",
   "execution_count": 5,
   "metadata": {},
   "outputs": [],
   "source": [
    "username_field = get_element_by_xpath(driver, '//input[@name=\"username\"]', max_wait=20)\n",
    "username_field.send_keys('121744')"
   ]
  },
  {
   "cell_type": "code",
   "execution_count": 6,
   "metadata": {},
   "outputs": [],
   "source": [
    "password_field = get_element_by_xpath(driver, '//input[@name=\"password\"]', max_wait=20)\n",
    "password_field.send_keys('Gfx458')"
   ]
  },
  {
   "cell_type": "code",
   "execution_count": 7,
   "metadata": {},
   "outputs": [],
   "source": [
    "btn_entrar = get_element_by_xpath(driver, '//input[@type=\"image\"]', max_wait=20)\n",
    "btn_entrar.click()"
   ]
  },
  {
   "cell_type": "code",
   "execution_count": 8,
   "metadata": {},
   "outputs": [],
   "source": [
    "link_divida_ativa = get_element_by_xpath(driver, '//a[contains(text(), \"Dívida Ativa\")]', max_wait=20)\n",
    "link_divida_ativa.click()"
   ]
  },
  {
   "cell_type": "code",
   "execution_count": 9,
   "metadata": {},
   "outputs": [],
   "source": [
    "link_outros_servicos = get_element_by_xpath(driver, '//b[contains(text(), \"- Outros\")]//ancestor::a', max_wait=20)\n",
    "link_outros_servicos.click()"
   ]
  },
  {
   "cell_type": "code",
   "execution_count": 10,
   "metadata": {},
   "outputs": [],
   "source": [
    "link_consulta_inscritos = get_element_by_xpath(driver, '//b[contains(text(), \"- Parcelamentos\") and contains(text(), \"inadimplencia\")]//ancestor::a', max_wait=20)\n",
    "link_consulta_inscritos.click()"
   ]
  },
  {
   "cell_type": "code",
   "execution_count": 11,
   "metadata": {},
   "outputs": [],
   "source": [
    "ano_inicial_parcelamento = get_element_by_xpath(driver, '//input[@name=\"ano_ini\"]')\n",
    "ano_inicial_parcelamento.clear()\n",
    "ano_inicial_parcelamento.send_keys('2023')"
   ]
  },
  {
   "cell_type": "code",
   "execution_count": 12,
   "metadata": {},
   "outputs": [],
   "source": [
    "dias_atraso = get_element_by_xpath(driver, '//input[@name=\"dias_atraso\"]')\n",
    "dias_atraso.clear()\n",
    "dias_atraso.send_keys('60')"
   ]
  },
  {
   "cell_type": "code",
   "execution_count": 16,
   "metadata": {},
   "outputs": [
    {
     "data": {
      "text/plain": [
       "(437, 466)"
      ]
     },
     "execution_count": 16,
     "metadata": {},
     "output_type": "execute_result"
    }
   ],
   "source": [
    "click_vision('btn_continuar')"
   ]
  },
  {
   "cell_type": "code",
   "execution_count": 17,
   "metadata": {},
   "outputs": [
    {
     "data": {
      "text/plain": [
       "<uia_controls.EditWrapper - 'Nome:', Edit, -1111177673396477709>"
      ]
     },
     "execution_count": 17,
     "metadata": {},
     "output_type": "execute_result"
    }
   ],
   "source": [
    "# Altera o nome do documento que e preciona enter para salvar\n",
    "write_text_vision(\n",
    "    'campo_nome_arquivo', \n",
    "    text='{VK_CONTROL down}a{DELETE}{VK_CONTROL up}{VK_SHIFT up}'+f'{\"teste3\"}-{\"nome\"}.xls', \n",
    "    backend='uia', \n",
    "    move_x=100, \n",
    "    max_wait=900,\n",
    "    after=5)"
   ]
  },
  {
   "cell_type": "code",
   "execution_count": 18,
   "metadata": {},
   "outputs": [
    {
     "data": {
      "text/plain": [
       "<uia_controls.EditWrapper - '', Edit, 0>"
      ]
     },
     "execution_count": 18,
     "metadata": {},
     "output_type": "execute_result"
    }
   ],
   "source": [
    "# Altera o nome do documento que e preciona enter para salvar\n",
    "write_text_vision(\n",
    "    'campo_nome_arquivo', \n",
    "    text='{ENTER}', \n",
    "    backend='uia', \n",
    "    move_x=100, \n",
    "    max_wait=900,\n",
    "    after=5)"
   ]
  },
  {
   "cell_type": "code",
   "execution_count": 62,
   "metadata": {},
   "outputs": [
    {
     "name": "stdout",
     "output_type": "stream",
     "text": [
      "2023\n",
      "2022\n",
      "2021\n",
      "2020\n",
      "2019\n",
      "2018\n",
      "2017\n",
      "2016\n",
      "2015\n",
      "2014\n",
      "2013\n",
      "2012\n",
      "2011\n",
      "2010\n"
     ]
    }
   ],
   "source": []
  }
 ],
 "metadata": {
  "kernelspec": {
   "display_name": "scripts-marcos-venv",
   "language": "python",
   "name": "python3"
  },
  "language_info": {
   "codemirror_mode": {
    "name": "ipython",
    "version": 3
   },
   "file_extension": ".py",
   "mimetype": "text/x-python",
   "name": "python",
   "nbconvert_exporter": "python",
   "pygments_lexer": "ipython3",
   "version": "3.8.10"
  }
 },
 "nbformat": 4,
 "nbformat_minor": 2
}
