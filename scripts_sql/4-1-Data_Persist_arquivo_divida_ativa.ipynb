{
 "cells": [
  {
   "attachments": {},
   "cell_type": "markdown",
   "metadata": {},
   "source": [
    "## Scraping Divida Ativa\n",
    "\n",
    "Ações - inclusão de registros de pagamentos efetivaodos da dívida atíva.\n",
    "\n",
    "### Data Sources\n",
    "- Dados extraidos da intranet da pmmc\n",
    "- file:  'summary_consulta-parcelamentos-data-pagamento.parquet'\n",
    "\n",
    "### Changes\n",
    "- 17-01-2024 : Started project"
   ]
  },
  {
   "cell_type": "code",
   "execution_count": 1,
   "metadata": {},
   "outputs": [],
   "source": [
    "import datetime\n",
    "import os\n",
    "from pathlib import Path\n",
    "\n",
    "import numpy as np\n",
    "import pandas as pd\n",
    "import psycopg2\n",
    "from sqlalchemy import create_engine\n",
    "from sqlalchemy.types import (BigInteger, Boolean, Date, DateTime, Integer,\n",
    "                              String)\n",
    "from summarytools import dfSummary\n",
    "\n",
    "import config"
   ]
  },
  {
   "attachments": {},
   "cell_type": "markdown",
   "metadata": {},
   "source": [
    "### File Locations"
   ]
  },
  {
   "cell_type": "code",
   "execution_count": 2,
   "metadata": {},
   "outputs": [
    {
     "data": {
      "text/plain": [
       "'2024-01-16'"
      ]
     },
     "execution_count": 2,
     "metadata": {},
     "output_type": "execute_result"
    }
   ],
   "source": [
    "in_file = Path.cwd().parent / \"data\" / \"processed\" / \"summary_consulta-parcelamentos-data-pagamento.parquet\"\n",
    "\n",
    "script_file = Path.cwd().parent / \"scripts_sql\" / f\"DML_pagamentos_efetivados.sql\"\n",
    "\n",
    "DATA_DOWNLOAD = os.getenv('DATA_DOWNLOAD')\n",
    "DATA_DOWNLOAD"
   ]
  },
  {
   "cell_type": "code",
   "execution_count": 3,
   "metadata": {},
   "outputs": [
    {
     "data": {
      "text/plain": [
       "Index(['TipoNum', 'Inscricao', 'ValorParcelado', 'Parcelamento', 'DataAcordo',\n",
       "       'ValorPago', 'Honorarios', 'Parcela', 'DataPagamento', 'Numero', 'Ano',\n",
       "       'Tipo', 'IdParcela', 'IdAcordo', 'IdCadastro'],\n",
       "      dtype='object')"
      ]
     },
     "execution_count": 3,
     "metadata": {},
     "output_type": "execute_result"
    }
   ],
   "source": [
    "df = pd.read_parquet(in_file)\n",
    "df.columns"
   ]
  },
  {
   "cell_type": "code",
   "execution_count": 4,
   "metadata": {},
   "outputs": [
    {
     "data": {
      "text/plain": [
       "Index(['tiponum', 'inscricao', 'valorparcelado', 'parcelamento', 'dataacordo',\n",
       "       'valorpago', 'honorarios', 'parcela', 'datapagamento', 'numero', 'ano',\n",
       "       'tipo', 'idparcela', 'idacordo', 'idcadastro'],\n",
       "      dtype='object')"
      ]
     },
     "execution_count": 4,
     "metadata": {},
     "output_type": "execute_result"
    }
   ],
   "source": [
    "df.columns = [c.lower() for c in df.columns]\n",
    "df.columns"
   ]
  },
  {
   "cell_type": "code",
   "execution_count": 5,
   "metadata": {},
   "outputs": [],
   "source": [
    "# for col in df.columns:\n",
    "#     print(f'{col:.<30}:', max([len(str(v)) for v in df[col]]))"
   ]
  },
  {
   "cell_type": "markdown",
   "metadata": {},
   "source": [
    "### Data Manipulation"
   ]
  },
  {
   "cell_type": "code",
   "execution_count": 6,
   "metadata": {},
   "outputs": [
    {
     "name": "stdout",
     "output_type": "stream",
     "text": [
      "<class 'pandas.core.frame.DataFrame'>\n",
      "RangeIndex: 1253788 entries, 0 to 1253787\n",
      "Data columns (total 15 columns):\n",
      " #   Column          Non-Null Count    Dtype         \n",
      "---  ------          --------------    -----         \n",
      " 0   tiponum         1253788 non-null  int64         \n",
      " 1   inscricao       1253788 non-null  int64         \n",
      " 2   valorparcelado  1253788 non-null  Float64       \n",
      " 3   parcelamento    1253788 non-null  int64         \n",
      " 4   dataacordo      1253788 non-null  datetime64[ns]\n",
      " 5   valorpago       1253788 non-null  Float64       \n",
      " 6   honorarios      1142340 non-null  Float64       \n",
      " 7   parcela         1253788 non-null  int64         \n",
      " 8   datapagamento   1253788 non-null  datetime64[ns]\n",
      " 9   numero          1253788 non-null  int64         \n",
      " 10  ano             1253788 non-null  int64         \n",
      " 11  tipo            1253788 non-null  object        \n",
      " 12  idparcela       1253788 non-null  object        \n",
      " 13  idacordo        1253788 non-null  object        \n",
      " 14  idcadastro      1253788 non-null  object        \n",
      "dtypes: Float64(3), datetime64[ns](2), int64(6), object(4)\n",
      "memory usage: 147.1+ MB\n",
      "None\n"
     ]
    }
   ],
   "source": [
    "print(df.info())"
   ]
  },
  {
   "cell_type": "code",
   "execution_count": 7,
   "metadata": {},
   "outputs": [
    {
     "data": {
      "text/plain": [
       "0         2024-01-16\n",
       "1         2024-01-16\n",
       "2         2024-01-16\n",
       "3         2024-01-16\n",
       "4         2024-01-16\n",
       "             ...    \n",
       "1253783   2024-01-16\n",
       "1253784   2024-01-16\n",
       "1253785   2024-01-16\n",
       "1253786   2024-01-16\n",
       "1253787   2024-01-16\n",
       "Name: data_referencia, Length: 1253788, dtype: datetime64[ns]"
      ]
     },
     "execution_count": 7,
     "metadata": {},
     "output_type": "execute_result"
    }
   ],
   "source": [
    "df['data_referencia'] = datetime.datetime.strptime(DATA_DOWNLOAD, '%Y-%m-%d')\n",
    "df['data_referencia']"
   ]
  },
  {
   "attachments": {},
   "cell_type": "markdown",
   "metadata": {},
   "source": [
    "### Get connection data"
   ]
  },
  {
   "cell_type": "code",
   "execution_count": 8,
   "metadata": {},
   "outputs": [],
   "source": [
    "DB_HOST = os.getenv('DB_HOST')\n",
    "DB_PORT = os.getenv('DB_PORT')\n",
    "DB_USER = os.getenv('DB_USER')\n",
    "DB_PASSWORD = os.getenv('DB_PASSWORD')\n",
    "DB_SCHEMA = os.getenv('DB_SCHEMA')\n",
    "\n",
    "conn_string = f'postgresql://{DB_USER}:{DB_PASSWORD}@{DB_HOST}:{DB_PORT}/postgres'"
   ]
  },
  {
   "cell_type": "markdown",
   "metadata": {},
   "source": [
    "### Create conection"
   ]
  },
  {
   "cell_type": "code",
   "execution_count": 9,
   "metadata": {},
   "outputs": [],
   "source": [
    "db = create_engine(conn_string)"
   ]
  },
  {
   "cell_type": "markdown",
   "metadata": {},
   "source": [
    "### Create schema"
   ]
  },
  {
   "cell_type": "code",
   "execution_count": 10,
   "metadata": {},
   "outputs": [],
   "source": [
    "with db.connect() as conn:\n",
    "    conn.execute('CREATE SCHEMA IF NOT EXISTS divida_ativa;')\n",
    "    conn.execute('SET search_path TO public, public;')\n",
    "    conn.execute('CREATE EXTENSION IF NOT EXISTS \"uuid-ossp\";')\n",
    "    conn.execute('SET search_path TO divida_ativa, public;')"
   ]
  },
  {
   "cell_type": "markdown",
   "metadata": {},
   "source": [
    "### Create table"
   ]
  },
  {
   "cell_type": "code",
   "execution_count": 11,
   "metadata": {},
   "outputs": [
    {
     "data": {
      "text/plain": [
       "'CREATE TABLE IF NOT EXISTS divida_ativa.pagamento_efetivado (uuid_pagamento_efetivado UUID NOT NULL DEFAULT uuid_generate_v4(),data_referencia DATE, created_at TIMESTAMP WITH TIME ZONE DEFAULT CURRENT_TIMESTAMP, tiponum INTEGER, inscricao VARCHAR(20), valorparcelado FLOAT, parcelamento INTEGER, dataacordo DATE, valorpago FLOAT, honorarios FLOAT, parcela INTEGER, datapagamento DATE, numero INTEGER, ano INTEGER, tipo VARCHAR(50), idparcela VARCHAR(14), idacordo VARCHAR(11), idcadastro VARCHAR(16),  CONSTRAINT pagamento_efetivado_pkey PRIMARY KEY (uuid_pagamento_efetivado)); '"
      ]
     },
     "execution_count": 11,
     "metadata": {},
     "output_type": "execute_result"
    }
   ],
   "source": [
    "sql_script_ddl = (\n",
    "    f\"CREATE TABLE IF NOT EXISTS {DB_SCHEMA}.pagamento_efetivado (\"\n",
    "        'uuid_pagamento_efetivado UUID NOT NULL DEFAULT uuid_generate_v4(),'\n",
    "        f\"data_referencia DATE, \"\n",
    "        f\"created_at TIMESTAMP WITH TIME ZONE DEFAULT CURRENT_TIMESTAMP, \"\n",
    "        'tiponum INTEGER, '\n",
    "        'inscricao VARCHAR(20), '\n",
    "        'valorparcelado FLOAT, '\n",
    "        'parcelamento INTEGER, '\n",
    "        'dataacordo DATE, '\n",
    "        'valorpago FLOAT, '\n",
    "        'honorarios FLOAT, '\n",
    "        'parcela INTEGER, '\n",
    "        'datapagamento DATE, '\n",
    "        'numero INTEGER, '\n",
    "        'ano INTEGER, '\n",
    "        'tipo VARCHAR(50), '\n",
    "        'idparcela VARCHAR(14), '\n",
    "        'idacordo VARCHAR(11), '\n",
    "        'idcadastro VARCHAR(16), '\n",
    "        f\" CONSTRAINT pagamento_efetivado_pkey PRIMARY KEY (uuid_pagamento_efetivado)\"\n",
    "    \"); \"\n",
    ")\n",
    "sql_script_ddl"
   ]
  },
  {
   "cell_type": "code",
   "execution_count": 12,
   "metadata": {},
   "outputs": [],
   "source": [
    "with db.connect() as conn:\n",
    "    conn.execute(sql_script_ddl)"
   ]
  },
  {
   "cell_type": "code",
   "execution_count": 13,
   "metadata": {},
   "outputs": [],
   "source": [
    "with db.connect() as conn:\n",
    "    conn.execute(F'CREATE INDEX IF NOT EXISTS idx_idparcela ON {DB_SCHEMA}.pagamento_efetivado (idparcela);')"
   ]
  },
  {
   "attachments": {},
   "cell_type": "markdown",
   "metadata": {},
   "source": [
    "### Insert into table - pagamentos efetivados"
   ]
  },
  {
   "cell_type": "code",
   "execution_count": null,
   "metadata": {},
   "outputs": [],
   "source": [
    "dtypes = {}\n",
    "\n",
    "# Converte o DataFrame em uma tabela temporária no banco de dados\n",
    "registros_adicionados = df.to_sql('tabela_temporaria', db, schema=DB_SCHEMA, if_exists='replace', dtype=dtypes, index=False, chunksize=1000)\n",
    "\n",
    "colunas_existentes = [c.lower() for c in df.columns]\n",
    "\n",
    "query = (\n",
    "        f\"INSERT INTO {DB_SCHEMA}.pagamento_efetivado ({', '.join(colunas_existentes)}) \"\n",
    "        f\"SELECT {', '.join(colunas_existentes)} \"\n",
    "        f\"FROM {DB_SCHEMA}.tabela_temporaria  AS tb_temp \"\n",
    "        f\"WHERE NOT EXISTS ( \"\n",
    "            f\"SELECT 1  \"\n",
    "            f\"FROM {DB_SCHEMA}.pagamento_efetivado pe \"\n",
    "            f\"WHERE pe.data_referencia = tb_temp.data_referencia \"\n",
    "            f\"AND pe.idparcela = tb_temp.idparcela \"\n",
    "        \") \"\n",
    "    f\"RETURNING *;\"\n",
    ")\n",
    "\n",
    "print(query)\n",
    "\n",
    "with db.connect() as conn:\n",
    "    result = conn.execute(query)\n",
    "    conn.execute(f\"DROP TABLE IF EXISTS {DB_SCHEMA}.tabela_temporaria;\")\n",
    "\n",
    "    # Recupera as informações da transação (linhas inseridas)\n",
    "    inserted_rows = result.fetchall()\n",
    "\n",
    "print('***Total_registros:', len(inserted_rows))"
   ]
  },
  {
   "attachments": {},
   "cell_type": "markdown",
   "metadata": {},
   "source": [
    "### Save output script file"
   ]
  },
  {
   "cell_type": "code",
   "execution_count": null,
   "metadata": {},
   "outputs": [],
   "source": [
    "# Salva o script SQL em um arquivo\n",
    "with open(script_file, 'w') as arquivo:\n",
    "    arquivo.write(query)"
   ]
  }
 ],
 "metadata": {
  "kernelspec": {
   "display_name": "base",
   "language": "python",
   "name": "python3"
  },
  "language_info": {
   "codemirror_mode": {
    "name": "ipython",
    "version": 3
   },
   "file_extension": ".py",
   "mimetype": "text/x-python",
   "name": "python",
   "nbconvert_exporter": "python",
   "pygments_lexer": "ipython3",
   "version": "3.10.9"
  },
  "orig_nbformat": 4,
  "vscode": {
   "interpreter": {
    "hash": "3c06e3e46abf38078fe4dac36a0085ec2b134ebbd73dd076183d243eeca6918f"
   }
  }
 },
 "nbformat": 4,
 "nbformat_minor": 2
}
