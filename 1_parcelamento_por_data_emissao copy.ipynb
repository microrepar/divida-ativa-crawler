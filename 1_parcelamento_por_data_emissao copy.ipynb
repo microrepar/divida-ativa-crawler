{
 "cells": [
  {
   "cell_type": "markdown",
   "metadata": {},
   "source": []
  },
  {
   "cell_type": "code",
   "execution_count": 1,
   "metadata": {},
   "outputs": [],
   "source": [
    "import time\n",
    "\n",
    "from rpapy.core import click_vision, write_text_vision\n",
    "# from selenium import webdriver\n",
    "# from selenium.webdriver.chrome.options import Options\n",
    "# from selenium.webdriver.chrome.service import Service as ChromeService\n",
    "# from selenium.webdriver.common.by import By\n",
    "# from selenium.webdriver.common.keys import Keys\n",
    "# from selenium.webdriver.support import expected_conditions as EC\n",
    "# from selenium.webdriver.support.ui import WebDriverWait\n",
    "\n",
    "# from webdriver_manager.chrome import ChromeDriverManager"
   ]
  },
  {
   "cell_type": "code",
   "execution_count": null,
   "metadata": {},
   "outputs": [],
   "source": [
    "import contextlib\n",
    "\n",
    "\n",
    "while True:\n",
    "    with contextlib.suppress(Exception):\n",
    "        click_vision(\"btn_ok\")\n",
    "    time.sleep(5)\n"
   ]
  },
  {
   "cell_type": "code",
   "execution_count": null,
   "metadata": {},
   "outputs": [],
   "source": [
    "options = Options()\n",
    "options.add_argument(\"--start-maximized\")\n",
    "options.add_experimental_option('prefs', {\n",
    "    'download.default_directory': 'C:/Users/codigo100cera/Downloads/divida ativa/parcelamento por data de emissão',\n",
    "    'download.prompt_for_download': True,\n",
    "    'download.directory_upgrade': True,\n",
    "    'safebrowsing.enabled': True\n",
    "})\n",
    "\n",
    "# #provide location where chrome stores profiles\n",
    "# options.add_argument(r\"--user-data-dir=C:/Users/codigo100cera/AppData/Local/Google/Chrome/User Data/Profile 12\")\n",
    "\n",
    "# #provide the profile name with which we want to open browser\n",
    "# options.add_argument(r'--profile-directory=Profile 12')\n",
    "\n",
    "driver = webdriver.Chrome( \n",
    "    service=ChromeService(ChromeDriverManager().install()),\n",
    "    options=options\n",
    ")\n"
   ]
  },
  {
   "cell_type": "code",
   "execution_count": null,
   "metadata": {},
   "outputs": [],
   "source": [
    "driver.get('https://online.mogidascruzes.sp.gov.br/intranet/')"
   ]
  },
  {
   "cell_type": "code",
   "execution_count": null,
   "metadata": {},
   "outputs": [],
   "source": [
    "def get_element_by_xpath(driver, xpath, max_wait=10):\n",
    "    try:\n",
    "        element = WebDriverWait(driver, max_wait).until(\n",
    "            EC.element_to_be_clickable((By.XPATH, xpath))\n",
    "        )\n",
    "        return element\n",
    "    except: \n",
    "        return None\n"
   ]
  },
  {
   "cell_type": "code",
   "execution_count": null,
   "metadata": {},
   "outputs": [],
   "source": [
    "username_field = get_element_by_xpath(driver, '//input[@name=\"username\"]', max_wait=20)\n",
    "username_field.send_keys('121744')"
   ]
  },
  {
   "cell_type": "code",
   "execution_count": null,
   "metadata": {},
   "outputs": [],
   "source": [
    "password_field = get_element_by_xpath(driver, '//input[@name=\"password\"]', max_wait=20)\n",
    "password_field.send_keys('Gfx458')"
   ]
  },
  {
   "cell_type": "code",
   "execution_count": null,
   "metadata": {},
   "outputs": [],
   "source": [
    "btn_entrar = get_element_by_xpath(driver, '//input[@type=\"image\"]', max_wait=20)\n",
    "btn_entrar.click()"
   ]
  },
  {
   "cell_type": "code",
   "execution_count": null,
   "metadata": {},
   "outputs": [],
   "source": [
    "link_divida_ativa = get_element_by_xpath(driver, '//a[contains(text(), \"Dívida Ativa\")]', max_wait=20)\n",
    "link_divida_ativa.click()"
   ]
  },
  {
   "cell_type": "code",
   "execution_count": null,
   "metadata": {},
   "outputs": [],
   "source": [
    "link_outros_servicos = get_element_by_xpath(driver, '//b[contains(text(), \"- Outros\")]//ancestor::a', max_wait=20)\n",
    "link_outros_servicos.click()"
   ]
  },
  {
   "cell_type": "code",
   "execution_count": null,
   "metadata": {},
   "outputs": [],
   "source": [
    "link_consulta_inscritos = get_element_by_xpath(driver, '//b[contains(text(), \"- Consulta Parcelamentos\") and contains(text(), \"data de emissão\")]//ancestor::a', max_wait=20)\n",
    "link_consulta_inscritos.click()"
   ]
  },
  {
   "cell_type": "code",
   "execution_count": null,
   "metadata": {},
   "outputs": [],
   "source": [
    "checkbox_list = []\n",
    "if get_element_by_xpath(driver, '//input[@id=\"testa_checkbox\"]', 10):\n",
    "    checkbox_list = driver.find_elements(By.XPATH, '//input[@id=\"testa_checkbox\"]')\n",
    "\n",
    "for checkbox in checkbox_list:\n",
    "    checkbox.click()\n"
   ]
  },
  {
   "cell_type": "code",
   "execution_count": null,
   "metadata": {
    "notebookRunGroups": {
     "groupValue": ""
    }
   },
   "outputs": [],
   "source": [
    "data_inicio_field = get_element_by_xpath(driver, '//input[@name=\"dt_ini\"]', max_wait=20)\n",
    "data_inicio_field.clear()\n",
    "data_inicio_field.send_keys('01/01/2022')"
   ]
  },
  {
   "cell_type": "code",
   "execution_count": null,
   "metadata": {},
   "outputs": [],
   "source": [
    "data_fim_field = get_element_by_xpath(driver, '//input[@name=\"dt_fim\"]', max_wait=20)\n",
    "data_fim_field.clear()\n",
    "data_fim_field.send_keys('31/12/2022')"
   ]
  },
  {
   "cell_type": "code",
   "execution_count": null,
   "metadata": {},
   "outputs": [],
   "source": [
    "btn_continuar = get_element_by_xpath(driver, '//img[contains(@src, \"Continuar\")]//ancestor::a')\n",
    "btn_continuar.send_keys(Keys.ENTER)"
   ]
  },
  {
   "cell_type": "code",
   "execution_count": null,
   "metadata": {},
   "outputs": [],
   "source": [
    "# Altera o nome do documento que e preciona enter para salvar\n",
    "write_text_vision(\n",
    "    'campo_nome_arquivo', \n",
    "    text='{VK_CONTROL down}a{DELETE}{VK_CONTROL up}{VK_SHIFT up}'+f'{\"teste3\"}-{\"nome\"}.xls'+'{ENTER}', \n",
    "    backend='uia', \n",
    "    move_x=100, \n",
    "    max_wait=900,\n",
    "    after=5)"
   ]
  },
  {
   "cell_type": "code",
   "execution_count": null,
   "metadata": {},
   "outputs": [],
   "source": [
    "for ano in range(2023, 2009, -1):\n",
    "    print(ano)"
   ]
  }
 ],
 "metadata": {
  "kernelspec": {
   "display_name": "scripts-marcos-venv",
   "language": "python",
   "name": "python3"
  },
  "language_info": {
   "codemirror_mode": {
    "name": "ipython",
    "version": 3
   },
   "file_extension": ".py",
   "mimetype": "text/x-python",
   "name": "python",
   "nbconvert_exporter": "python",
   "pygments_lexer": "ipython3",
   "version": "3.8.10"
  }
 },
 "nbformat": 4,
 "nbformat_minor": 2
}
