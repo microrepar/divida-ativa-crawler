{
 "cells": [
  {
   "cell_type": "code",
   "execution_count": 1,
   "metadata": {},
   "outputs": [],
   "source": [
    "import time\n",
    "\n",
    "from element_manager import get_xpath\n",
    "from selenium import webdriver\n",
    "from selenium.webdriver.chrome.service import Service as ChromeService\n",
    "from selenium.webdriver.common.by import By\n",
    "from selenium.webdriver.common.keys import Keys\n",
    "from selenium.webdriver.support import expected_conditions as EC\n",
    "from selenium.webdriver.support.ui import WebDriverWait\n",
    "from webdriver_manager.chrome import ChromeDriverManager\n",
    "from rpapy.core import click_vision, write_text_vision"
   ]
  },
  {
   "cell_type": "code",
   "execution_count": 2,
   "metadata": {},
   "outputs": [],
   "source": [
    "driver = webdriver.Chrome(service=ChromeService(ChromeDriverManager().install()))"
   ]
  },
  {
   "cell_type": "code",
   "execution_count": 3,
   "metadata": {},
   "outputs": [],
   "source": [
    "driver.get('https://online.mogidascruzes.sp.gov.br/intranet/')"
   ]
  },
  {
   "cell_type": "code",
   "execution_count": 4,
   "metadata": {},
   "outputs": [],
   "source": [
    "def get_element_by_xpath(driver, xpath, max_wait=10):\n",
    "    try:\n",
    "        element = WebDriverWait(driver, max_wait).until(\n",
    "            EC.element_to_be_clickable((By.XPATH, xpath))\n",
    "        )\n",
    "        return element\n",
    "    except: \n",
    "        return None\n"
   ]
  },
  {
   "cell_type": "code",
   "execution_count": 5,
   "metadata": {},
   "outputs": [],
   "source": [
    "username_field = get_element_by_xpath(driver, '//input[@name=\"username\"]', max_wait=20)\n",
    "username_field.send_keys('121744')"
   ]
  },
  {
   "cell_type": "code",
   "execution_count": 6,
   "metadata": {},
   "outputs": [],
   "source": [
    "password_field = get_element_by_xpath(driver, '//input[@name=\"password\"]', max_wait=20)\n",
    "password_field.send_keys('Gfx458')"
   ]
  },
  {
   "cell_type": "code",
   "execution_count": 7,
   "metadata": {},
   "outputs": [],
   "source": [
    "btn_entrar = get_element_by_xpath(driver, '//input[@type=\"image\"]', max_wait=20)\n",
    "btn_entrar.click()"
   ]
  },
  {
   "cell_type": "code",
   "execution_count": 8,
   "metadata": {},
   "outputs": [],
   "source": [
    "link_divida_ativa = get_element_by_xpath(driver, '//a[contains(text(), \"Dívida Ativa\")]', max_wait=20)\n",
    "link_divida_ativa.click()"
   ]
  },
  {
   "cell_type": "code",
   "execution_count": 9,
   "metadata": {},
   "outputs": [],
   "source": [
    "link_outros_servicos = get_element_by_xpath(driver, '//b[contains(text(), \"- Outros\")]//ancestor::a', max_wait=20)\n",
    "link_outros_servicos.click()"
   ]
  },
  {
   "cell_type": "code",
   "execution_count": 10,
   "metadata": {},
   "outputs": [],
   "source": [
    "link_consulta_inscritos = get_element_by_xpath(driver, '//b[contains(text(), \"- Consulta inscritos\")]//ancestor::a', max_wait=20)\n",
    "link_consulta_inscritos.click()"
   ]
  },
  {
   "cell_type": "code",
   "execution_count": 11,
   "metadata": {},
   "outputs": [],
   "source": [
    "data_inicio_field = get_element_by_xpath(driver, '//input[@name=\"dt_ini\"]', max_wait=20)\n",
    "data_inicio_field.clear()\n",
    "data_inicio_field.send_keys('01012022')"
   ]
  },
  {
   "cell_type": "code",
   "execution_count": 12,
   "metadata": {},
   "outputs": [],
   "source": [
    "data_fim_field = get_element_by_xpath(driver, '//input[@name=\"dt_fim\"]', max_wait=20)\n",
    "data_fim_field.clear()\n",
    "data_fim_field.send_keys('31/12/2022')"
   ]
  },
  {
   "cell_type": "code",
   "execution_count": 13,
   "metadata": {},
   "outputs": [
    {
     "data": {
      "text/plain": [
       "(637, 944)"
      ]
     },
     "execution_count": 13,
     "metadata": {},
     "output_type": "execute_result"
    }
   ],
   "source": [
    "click_vision('btn_continuar', max_wait=600)\n"
   ]
  },
  {
   "cell_type": "code",
   "execution_count": 14,
   "metadata": {},
   "outputs": [
    {
     "ename": "ImageNotFoundError",
     "evalue": "A imagem \"name_file_field\", não foi encontrada!",
     "output_type": "error",
     "traceback": [
      "\u001b[1;31m---------------------------------------------------------------------------\u001b[0m",
      "\u001b[1;31mImageNotFoundError\u001b[0m                        Traceback (most recent call last)",
      "File \u001b[1;32mc:\\Users\\SMTDA\\envs\\divida-ativa-venv\\lib\\site-packages\\rpapy\\core\\activities.py:59\u001b[0m, in \u001b[0;36mget_element_vision\u001b[1;34m(image_name, attr_name, identifier_img, backend, before, after, max_wait, interval, confidence, wait_vanish, execute, wait_attr, move_x, move_y, delay, ignore_error, arguments, kwarguments, *args, **kwargs)\u001b[0m\n\u001b[0;32m     58\u001b[0m \u001b[38;5;28;01mtry\u001b[39;00m:\n\u001b[1;32m---> 59\u001b[0m     coordinate \u001b[38;5;241m=\u001b[39m \u001b[43midentifier_img\u001b[49m\u001b[43m(\u001b[49m\n\u001b[0;32m     60\u001b[0m \u001b[43m            \u001b[49m\u001b[43mimage_name\u001b[49m\u001b[43m,\u001b[49m\u001b[43m \u001b[49m\n\u001b[0;32m     61\u001b[0m \u001b[43m            \u001b[49m\u001b[43mmax_wait\u001b[49m\u001b[38;5;241;43m=\u001b[39;49m\u001b[43mmax_wait\u001b[49m\u001b[43m,\u001b[49m\u001b[43m \u001b[49m\n\u001b[0;32m     62\u001b[0m \u001b[43m            \u001b[49m\u001b[43mconfidence\u001b[49m\u001b[38;5;241;43m=\u001b[39;49m\u001b[43mconfidence\u001b[49m\u001b[43m,\u001b[49m\n\u001b[0;32m     63\u001b[0m \u001b[43m            \u001b[49m\u001b[43mwait_vanish\u001b[49m\u001b[38;5;241;43m=\u001b[39;49m\u001b[43mwait_vanish\u001b[49m\u001b[43m,\u001b[49m\n\u001b[0;32m     64\u001b[0m \u001b[43m            \u001b[49m\u001b[43minterval\u001b[49m\u001b[38;5;241;43m=\u001b[39;49m\u001b[43minterval\u001b[49m\u001b[43m,\u001b[49m\u001b[43m \u001b[49m\n\u001b[0;32m     65\u001b[0m \u001b[43m            \u001b[49m\u001b[43mdeslocar_x\u001b[49m\u001b[38;5;241;43m=\u001b[39;49m\u001b[43mmove_x\u001b[49m\u001b[43m,\u001b[49m\u001b[43m \u001b[49m\n\u001b[0;32m     66\u001b[0m \u001b[43m            \u001b[49m\u001b[43mdeslocar_y\u001b[49m\u001b[38;5;241;43m=\u001b[39;49m\u001b[43mmove_y\u001b[49m\n\u001b[0;32m     67\u001b[0m \u001b[43m    \u001b[49m\u001b[43m)\u001b[49m\n\u001b[0;32m     68\u001b[0m \u001b[38;5;28;01mexcept\u001b[39;00m ImageNotFoundError \u001b[38;5;28;01mas\u001b[39;00m error:\n",
      "File \u001b[1;32mc:\\Users\\SMTDA\\envs\\divida-ativa-venv\\lib\\site-packages\\rpapy\\core\\localizador.py:174\u001b[0m, in \u001b[0;36mLocalizadorImagem.__call__\u001b[1;34m(self, image_name, max_wait, confidence, wait_vanish, interval, deslocar_x, deslocar_y)\u001b[0m\n\u001b[0;32m    173\u001b[0m         \u001b[38;5;66;03m# Lança a exceção de imagem não encotrada.\u001b[39;00m\n\u001b[1;32m--> 174\u001b[0m         \u001b[38;5;28;01mraise\u001b[39;00m ImageNotFoundError(\u001b[38;5;124mf\u001b[39m\u001b[38;5;124m'\u001b[39m\u001b[38;5;124mA imagem \u001b[39m\u001b[38;5;124m\"\u001b[39m\u001b[38;5;132;01m{\u001b[39;00mimage_name\u001b[38;5;132;01m}\u001b[39;00m\u001b[38;5;124m\"\u001b[39m\u001b[38;5;124m, não foi encontrada!\u001b[39m\u001b[38;5;124m'\u001b[39m)\n\u001b[0;32m    176\u001b[0m \u001b[38;5;66;03m# Efetua um intervalo de parada entre os loop de tentativa de encontrar a imagem\u001b[39;00m\n",
      "\u001b[1;31mImageNotFoundError\u001b[0m: A imagem \"name_file_field\", não foi encontrada!",
      "\nDuring handling of the above exception, another exception occurred:\n",
      "\u001b[1;31mImageNotFoundError\u001b[0m                        Traceback (most recent call last)",
      "Cell \u001b[1;32mIn[14], line 1\u001b[0m\n\u001b[1;32m----> 1\u001b[0m \u001b[43mwrite_text_vision\u001b[49m\u001b[43m(\u001b[49m\u001b[38;5;124;43m'\u001b[39;49m\u001b[38;5;124;43mname_file_field\u001b[39;49m\u001b[38;5;124;43m'\u001b[39;49m\u001b[43m,\u001b[49m\u001b[43m \u001b[49m\u001b[43mtext\u001b[49m\u001b[38;5;241;43m=\u001b[39;49m\u001b[38;5;124;43m'\u001b[39;49m\u001b[38;5;124;43mTest\u001b[39;49m\u001b[38;5;124;43m'\u001b[39;49m\u001b[43m)\u001b[49m\n",
      "File \u001b[1;32mc:\\Users\\SMTDA\\envs\\divida-ativa-venv\\lib\\site-packages\\rpapy\\core\\activities.py:136\u001b[0m, in \u001b[0;36mwrite_text_vision\u001b[1;34m(image_name, text, identifier_img, backend, max_wait, wait_vanish, move_x, move_y, delay, before, after, interval, confidence, wait_attr, ignore_error)\u001b[0m\n\u001b[0;32m    132\u001b[0m     text \u001b[38;5;241m=\u001b[39m prepare_text_to_pyautogui(text)\n\u001b[0;32m    134\u001b[0m execute \u001b[38;5;241m=\u001b[39m \u001b[38;5;28;01mTrue\u001b[39;00m\n\u001b[1;32m--> 136\u001b[0m \u001b[38;5;28;01mreturn\u001b[39;00m \u001b[43mget_element_vision\u001b[49m\u001b[43m(\u001b[49m\u001b[43mimage_name\u001b[49m\u001b[43m,\u001b[49m\u001b[43m \u001b[49m\u001b[43mtext\u001b[49m\u001b[43m,\u001b[49m\u001b[43m \u001b[49m\u001b[43midentifier_img\u001b[49m\u001b[38;5;241;43m=\u001b[39;49m\u001b[43midentifier_img\u001b[49m\u001b[43m,\u001b[49m\u001b[43m \u001b[49m\u001b[43mbackend\u001b[49m\u001b[38;5;241;43m=\u001b[39;49m\u001b[43mbackend\u001b[49m\u001b[43m,\u001b[49m\u001b[43m \u001b[49m\u001b[43mmax_wait\u001b[49m\u001b[38;5;241;43m=\u001b[39;49m\u001b[43mmax_wait\u001b[49m\u001b[43m,\u001b[49m\u001b[43m \u001b[49m\n\u001b[0;32m    137\u001b[0m \u001b[43m                            \u001b[49m\u001b[43mattr_name\u001b[49m\u001b[38;5;241;43m=\u001b[39;49m\u001b[43mattr_name\u001b[49m\u001b[43m,\u001b[49m\u001b[43m \u001b[49m\u001b[43mwait_vanish\u001b[49m\u001b[38;5;241;43m=\u001b[39;49m\u001b[43mwait_vanish\u001b[49m\u001b[43m,\u001b[49m\u001b[43m \u001b[49m\u001b[43mmove_x\u001b[49m\u001b[38;5;241;43m=\u001b[39;49m\u001b[43mmove_x\u001b[49m\u001b[43m,\u001b[49m\u001b[43m \u001b[49m\u001b[43mmove_y\u001b[49m\u001b[38;5;241;43m=\u001b[39;49m\u001b[43mmove_y\u001b[49m\u001b[43m,\u001b[49m\u001b[43m \u001b[49m\u001b[43mdelay\u001b[49m\u001b[38;5;241;43m=\u001b[39;49m\u001b[43mdelay\u001b[49m\u001b[43m,\u001b[49m\u001b[43m \u001b[49m\n\u001b[0;32m    138\u001b[0m \u001b[43m                            \u001b[49m\u001b[43mbefore\u001b[49m\u001b[38;5;241;43m=\u001b[39;49m\u001b[43mbefore\u001b[49m\u001b[43m,\u001b[49m\u001b[43m \u001b[49m\u001b[43mafter\u001b[49m\u001b[38;5;241;43m=\u001b[39;49m\u001b[43mafter\u001b[49m\u001b[43m,\u001b[49m\u001b[43m \u001b[49m\u001b[43minterval\u001b[49m\u001b[38;5;241;43m=\u001b[39;49m\u001b[43minterval\u001b[49m\u001b[43m,\u001b[49m\u001b[43m \u001b[49m\u001b[43mconfidence\u001b[49m\u001b[38;5;241;43m=\u001b[39;49m\u001b[43mconfidence\u001b[49m\u001b[43m,\u001b[49m\u001b[43m \u001b[49m\u001b[43mwait_attr\u001b[49m\u001b[38;5;241;43m=\u001b[39;49m\u001b[43mwait_attr\u001b[49m\u001b[43m,\u001b[49m\u001b[43m \u001b[49m\n\u001b[0;32m    139\u001b[0m \u001b[43m                            \u001b[49m\u001b[43mexecute\u001b[49m\u001b[38;5;241;43m=\u001b[39;49m\u001b[43mexecute\u001b[49m\u001b[43m,\u001b[49m\u001b[43m \u001b[49m\u001b[43mignore_error\u001b[49m\u001b[38;5;241;43m=\u001b[39;49m\u001b[43mignore_error\u001b[49m\u001b[43m)\u001b[49m\n",
      "File \u001b[1;32mc:\\Users\\SMTDA\\envs\\divida-ativa-venv\\lib\\site-packages\\rpapy\\core\\activities.py:71\u001b[0m, in \u001b[0;36mget_element_vision\u001b[1;34m(image_name, attr_name, identifier_img, backend, before, after, max_wait, interval, confidence, wait_vanish, execute, wait_attr, move_x, move_y, delay, ignore_error, arguments, kwarguments, *args, **kwargs)\u001b[0m\n\u001b[0;32m     69\u001b[0m     \u001b[38;5;28;01mif\u001b[39;00m ignore_error:\n\u001b[0;32m     70\u001b[0m         \u001b[38;5;28;01mreturn\u001b[39;00m\n\u001b[1;32m---> 71\u001b[0m     \u001b[38;5;28;01mraise\u001b[39;00m ImageNotFoundError(\u001b[38;5;28mstr\u001b[39m(error))\n\u001b[0;32m     73\u001b[0m \u001b[38;5;28;01mif\u001b[39;00m attr_name \u001b[38;5;129;01mis\u001b[39;00m \u001b[38;5;28;01mNone\u001b[39;00m:\n\u001b[0;32m     74\u001b[0m     \u001b[38;5;28;01mreturn\u001b[39;00m coordinate\n",
      "\u001b[1;31mImageNotFoundError\u001b[0m: A imagem \"name_file_field\", não foi encontrada!"
     ]
    }
   ],
   "source": [
    "write_text_vision('name_file_field', text='Test')"
   ]
  },
  {
   "cell_type": "code",
   "execution_count": null,
   "metadata": {},
   "outputs": [
    {
     "data": {
      "text/plain": [
       "(1197, 686)"
      ]
     },
     "execution_count": 15,
     "metadata": {},
     "output_type": "execute_result"
    }
   ],
   "source": [
    "click_vision('btn_salvar')"
   ]
  }
 ],
 "metadata": {
  "kernelspec": {
   "display_name": "scripts-marcos-venv",
   "language": "python",
   "name": "python3"
  },
  "language_info": {
   "codemirror_mode": {
    "name": "ipython",
    "version": 3
   },
   "file_extension": ".py",
   "mimetype": "text/x-python",
   "name": "python",
   "nbconvert_exporter": "python",
   "pygments_lexer": "ipython3",
   "version": "3.8.10"
  }
 },
 "nbformat": 4,
 "nbformat_minor": 2
}
